{
 "cells": [
  {
   "cell_type": "markdown",
   "id": "474d430b",
   "metadata": {
    "toc": true
   },
   "source": [
    "<h1>Table of Contents<span class=\"tocSkip\"></span></h1>\n",
    "<div class=\"toc\"><ul class=\"toc-item\"><li><span><a href=\"#Instructions:\" data-toc-modified-id=\"Instructions:-1\"><span class=\"toc-item-num\">1&nbsp;&nbsp;</span>Instructions:</a></span></li><li><span><a href=\"#Print-package-version-information\" data-toc-modified-id=\"Print-package-version-information-2\"><span class=\"toc-item-num\">2&nbsp;&nbsp;</span>Print package version information</a></span></li><li><span><a href=\"#Import-packages\" data-toc-modified-id=\"Import-packages-3\"><span class=\"toc-item-num\">3&nbsp;&nbsp;</span>Import packages</a></span></li></ul></div>"
   ]
  },
  {
   "cell_type": "markdown",
   "id": "e74b1798",
   "metadata": {},
   "source": [
    "## Instructions:\n",
    "1. Install `pandas` (`pip install pandas`)\n",
    "1. Install the python `selenium` package (`pip install selenium`)\n",
    "1. [Install ChromeDriver](https://chromedriver.chromium.org/downloads) on your machine\n",
    "  - You also need Chrome (the regular application) on your machine.\n",
    "  - These two need to align. Make sure the version of Chrome you have aligns with the version of Chromedriver you install.\n",
    "1. Set up the variables in this next cell, then it should run through cleanly."
   ]
  },
  {
   "cell_type": "code",
   "execution_count": null,
   "id": "0d580e71",
   "metadata": {},
   "outputs": [],
   "source": [
    "# ID of your survey, findable in the URL\n",
    "# (e.g. SV_ajh8623Khk in https://www.qualtrics.com/responses/#/surveys/SV_ajh8623Khk)\n",
    "SURVEY_ID = 'SV_a8HnVrOTaSZiuCa'\n",
    "\n",
    "# Export all your qualtrics data to a CSV, so we can easily get the Response IDs\n",
    "# of your participants. Put the (full) path to the file here.\n",
    "QUALTRICS_CSV_EXPORT = '../psych2/data/quiz1.csv'\n",
    "\n",
    "# My university has a special prefix here, yours may differ\n",
    "# Try changing 'ucbpsych.yul1' to just 'www' for most people\n",
    "QUALTRICS_HOST = 'https://ucbpsych.yul1.qualtrics.com/'\n",
    "URL_FMT = QUALTRICS_HOST + 'Q/Data/Ajax/GetSingleResponseReport?RID=%s&SID=%s'\n",
    "\n",
    "QUALTRICS_USERNAME = 'your_username_here'\n",
    "QUALTRICS_PASSWORD = 'your_password_here'\n",
    "\n",
    "# Where does your Chrome download things to?\n",
    "DOWNLOADS_FOLDER = '/Users/everettwetchler/Downloads/'"
   ]
  },
  {
   "cell_type": "markdown",
   "id": "16def1a2",
   "metadata": {},
   "source": [
    "## Print package version information"
   ]
  },
  {
   "cell_type": "code",
   "execution_count": 1,
   "id": "74d31d4c",
   "metadata": {},
   "outputs": [
    {
     "name": "stdout",
     "output_type": "stream",
     "text": [
      "Author: Everett Wetchler\n",
      "\n",
      "Last updated: 2023-02-10 18:27:39PST\n",
      "\n",
      "Python implementation: CPython\n",
      "Python version       : 3.9.6\n",
      "IPython version      : 7.26.0\n",
      "\n",
      "pandas  : 1.3.1\n",
      "selenium: 4.8.0\n",
      "\n",
      "Git hash: e7ba1d4bf515186ab32f232533d2c9f4d3c9f842\n",
      "\n",
      "Git repo: git@github.com:wetchler/teaching.git\n",
      "\n",
      "Watermark: 2.3.1\n",
      "\n"
     ]
    }
   ],
   "source": [
    "%load_ext watermark\n",
    "%watermark -a 'Everett Wetchler' -vudtzwgr -p pandas,selenium"
   ]
  },
  {
   "cell_type": "markdown",
   "id": "82ed7d0a",
   "metadata": {},
   "source": [
    "## Import packages"
   ]
  },
  {
   "cell_type": "code",
   "execution_count": null,
   "id": "860a86b0",
   "metadata": {},
   "outputs": [],
   "source": [
    "import json\n",
    "import os\n",
    "import time\n",
    "\n",
    "import pandas as pd\n",
    "from selenium import webdriver\n",
    "from selenium.webdriver.support.wait import WebDriverWait \n",
    "from selenium.webdriver.support import expected_conditions as EC\n",
    "from selenium.webdriver.common.by import By"
   ]
  },
  {
   "cell_type": "code",
   "execution_count": null,
   "id": "0405c393",
   "metadata": {},
   "outputs": [],
   "source": [
    "df = pd.read_csv(QUALTRICS_CSV_EXPORT)\n",
    "# Pull ResponseIds while ignoring extraneous header rows\n",
    "RIDS = [rid for rid in df['ResponseId'] if rid.startswith('R_')]\n",
    "print(\"Found %d responses\" % len(RIDS))"
   ]
  },
  {
   "cell_type": "code",
   "execution_count": null,
   "id": "9e2495f6",
   "metadata": {},
   "outputs": [],
   "source": [
    "def start_browser():\n",
    "    chrome_options = webdriver.ChromeOptions()\n",
    "    settings = {\n",
    "       \"recentDestinations\": [{\n",
    "            \"id\": \"Save as PDF\",\n",
    "            \"origin\": \"local\",\n",
    "            \"account\": \"\",\n",
    "        }],\n",
    "        \"selectedDestinationId\": \"Save as PDF\",\n",
    "        \"version\": 2\n",
    "    }\n",
    "    prefs = {'printing.print_preview_sticky_settings.appState': json.dumps(settings)}\n",
    "    chrome_options.add_experimental_option('prefs', prefs)\n",
    "    chrome_options.add_argument('--kiosk-printing')\n",
    "    return webdriver.Chrome(options=chrome_options)"
   ]
  },
  {
   "cell_type": "code",
   "execution_count": null,
   "id": "c24f9d05",
   "metadata": {},
   "outputs": [],
   "source": [
    "def login_qualtrics(browser):\n",
    "    browser.get('https://ucbpsych.qualtrics.com')\n",
    "    WebDriverWait(browser, 20).until(EC.presence_of_element_located((By.ID, \"UserName\")))\n",
    "    field = browser.find_element(By.ID, \"UserName\")\n",
    "    field.send_keys(QUALTRICS_USERNAME)\n",
    "    field = browser.find_element(By.ID, \"UserPassword\")\n",
    "    field.send_keys(QUALTRICS_PASSWORD)\n",
    "    browser.find_element(By.ID, \"loginButton\").click()"
   ]
  },
  {
   "cell_type": "code",
   "execution_count": null,
   "id": "e8095f6a",
   "metadata": {},
   "outputs": [],
   "source": [
    "def download_user_pdf(rid):\n",
    "    url = URL_FMT % (rid, SURVEY_ID)\n",
    "    browser.get(url)\n",
    "    WebDriverWait(browser, 20).until(\n",
    "        EC.presence_of_element_located((By.CLASS_NAME, \"InputText\")))\n",
    "    browser.execute_script('window.print();')\n",
    "    fname = '%s.pdf' % browser.title\n",
    "    fname = os.path.join(DOWNLOADS_FOLDER, fname)\n",
    "    new_fname = 'Survey_%s_Response_%s.pdf' % (SURVEY_ID, rid)\n",
    "    new_fname = os.path.join(DOWNLOADS_FOLDER, new_fname)\n",
    "    cmd = 'mv \"%s\" \"%s\"' % (fname, new_fname)\n",
    "    print('Renaming file with command: [%s]' % cmd)\n",
    "    assert os.system(cmd) == 0, 'Error renaming file for response %s' % rid"
   ]
  },
  {
   "cell_type": "code",
   "execution_count": null,
   "id": "aebb8da5",
   "metadata": {},
   "outputs": [],
   "source": [
    "browser = start_browser()\n",
    "login_qualtrics(browser)\n",
    "time.sleep(10)  # Hacky way to let it load fully\n",
    "for rid in RIDS:\n",
    "    print(\"Fetching\", rid)\n",
    "    download_user_pdf(rid)\n",
    "\n",
    "browser.close()"
   ]
  },
  {
   "cell_type": "code",
   "execution_count": null,
   "id": "4e2e0787",
   "metadata": {},
   "outputs": [],
   "source": []
  }
 ],
 "metadata": {
  "kernelspec": {
   "display_name": "Python 3.9.6 (pyenv)",
   "language": "python",
   "name": "pyenv_3_9_6"
  },
  "language_info": {
   "codemirror_mode": {
    "name": "ipython",
    "version": 3
   },
   "file_extension": ".py",
   "mimetype": "text/x-python",
   "name": "python",
   "nbconvert_exporter": "python",
   "pygments_lexer": "ipython3",
   "version": "3.9.6"
  },
  "toc": {
   "base_numbering": 1,
   "nav_menu": {},
   "number_sections": true,
   "sideBar": true,
   "skip_h1_title": true,
   "title_cell": "Table of Contents",
   "title_sidebar": "Contents",
   "toc_cell": true,
   "toc_position": {},
   "toc_section_display": true,
   "toc_window_display": true
  }
 },
 "nbformat": 4,
 "nbformat_minor": 5
}
