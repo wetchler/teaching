{
 "cells": [
  {
   "cell_type": "markdown",
   "metadata": {},
   "source": [
    "# Classes and OOP in Python - described by example\n",
    "##### Author: Everett Wetchler (everett.wetchler@gmail.com) 2019-10-20\n",
    "---\n",
    "EVERY variable in python has a \"type,\" indicating what sort of thing it _is_ (integer, string, etc). **\"Type\" is effectively synonymous with \"class.\"** To say that \"x is an integer\" is identical to saying that \"x has class integer\" or \"x has type integer.\"\n",
    "\n",
    "The class (type) determines:\n",
    "1. What functions you can call on it. E.g. if `x` is a string, you can call `x.upper()` to get an uppercase version of it, but if `x` is an integer, running `x.upper()` will throw an error. \n",
    "2. How operators work on it. `1 + 2` returns `3` but `'1' + '2'` returns `'12'`, because `1` and `2` have class `int` while `'1'` and `'2'` have class `str`.\n",
    "3. How you create one.\n",
    "  * Some classes are defined in the core python language (integers, strings, lists, etc).  These are called _built-in types_, and each has a special syntax for creating it. For example `x = 1` makes x an integer, while `x = '1'` makes it a string, and `x = [1]` makes it a list (with one element, the integer 1).\n",
    "  * For all other types (anything you define yourself, or `import`), you create them by calling the name and passing in any arguments needed to customize it. E.g.:"
   ]
  },
  {
   "cell_type": "code",
   "execution_count": 3,
   "metadata": {},
   "outputs": [],
   "source": [
    "from pandas import Series\n",
    "\n",
    "x = Series()\n",
    "# or\n",
    "y = Series([1,2,3], index=['a', 'b', 'c'])"
   ]
  },
  {
   "cell_type": "markdown",
   "metadata": {},
   "source": [
    "### Important terminology\n",
    "\n",
    "When you write `x = 1`, x is called an \"instance\" of the class integer. Put differently, a \"class\" is just a definition of some type-of-thing and how it works, while an \"instance\" is a single, actual thing in the flesh.\n",
    "\n",
    "This also helps explain a useful python function, `isinstance`, which tells you if a variable has a certain class."
   ]
  },
  {
   "cell_type": "code",
   "execution_count": 4,
   "metadata": {},
   "outputs": [
    {
     "name": "stdout",
     "output_type": "stream",
     "text": [
      "True\n",
      "False\n"
     ]
    }
   ],
   "source": [
    "x = 4\n",
    "print(isinstance(x, int))\n",
    "print(isinstance(x, str))"
   ]
  },
  {
   "cell_type": "markdown",
   "metadata": {},
   "source": [
    "Be sure not to confuse classes for instances."
   ]
  },
  {
   "cell_type": "code",
   "execution_count": 5,
   "metadata": {},
   "outputs": [
    {
     "data": {
      "text/plain": [
       "False"
      ]
     },
     "execution_count": 5,
     "metadata": {},
     "output_type": "execute_result"
    }
   ],
   "source": [
    "isinstance(int, int)"
   ]
  },
  {
   "cell_type": "markdown",
   "metadata": {},
   "source": [
    "## Defining your own classes, and why it's helpful\n",
    "\n",
    "### Code encapsulation\n",
    "\n",
    "Say you want to represent a user for an app. You could make a class for a user with a _class definition_ like so"
   ]
  },
  {
   "cell_type": "code",
   "execution_count": 6,
   "metadata": {},
   "outputs": [],
   "source": [
    "class User:\n",
    "    pass  # because you need *something* inside indented blocks in python, \"pass\" does nothing"
   ]
  },
  {
   "cell_type": "markdown",
   "metadata": {},
   "source": [
    "Now, this is a profoundly boring class that does nothing. But it's valid! To create an instance of your class, do like so:"
   ]
  },
  {
   "cell_type": "code",
   "execution_count": 7,
   "metadata": {},
   "outputs": [],
   "source": [
    "joe = User()"
   ]
  },
  {
   "cell_type": "markdown",
   "metadata": {},
   "source": [
    "What if you want to give users a name, email, and password? Well, you could do it like this:"
   ]
  },
  {
   "cell_type": "code",
   "execution_count": 8,
   "metadata": {},
   "outputs": [],
   "source": [
    "joe = User()\n",
    "joe.name = \"Joe\"\n",
    "joe.email = \"joe@gmail.com\"\n",
    "joe.password = \"wiggles123\""
   ]
  },
  {
   "cell_type": "markdown",
   "metadata": {},
   "source": [
    "What's wrong with this? It works, but....\n",
    "1. It's verbose. Wouldn't something like `joe = User(\"Joe\", \"joe@gmail.com\", \"wiggles123\")` be nicer?\n",
    "1. This isn't really any better than storing all this information in a dictionary. What are we gaining?\n",
    "1. Anytime you create a user, you have to remember to set the name and email and password (and not make any typos!) Imagine if you had code elsewhere that (say) printed the email, e.g."
   ]
  },
  {
   "cell_type": "code",
   "execution_count": 9,
   "metadata": {},
   "outputs": [],
   "source": [
    "def print_email(some_user):\n",
    "    print(some_user.email)"
   ]
  },
  {
   "cell_type": "markdown",
   "metadata": {},
   "source": [
    "If you forgot to set the email (or accidentally mistype `email`)..."
   ]
  },
  {
   "cell_type": "code",
   "execution_count": 10,
   "metadata": {},
   "outputs": [],
   "source": [
    "alice = User()\n",
    "alice.name = 'Alice'\n",
    "alice.password = 'wonderland'\n",
    "alice.eemail = 'mad@hatter.com'"
   ]
  },
  {
   "cell_type": "markdown",
   "metadata": {},
   "source": [
    "This code is gonna crash -- but not until you call it! Witness..."
   ]
  },
  {
   "cell_type": "code",
   "execution_count": 11,
   "metadata": {},
   "outputs": [
    {
     "ename": "AttributeError",
     "evalue": "'User' object has no attribute 'email'",
     "output_type": "error",
     "traceback": [
      "\u001b[0;31m---------------------------------------------------------------------------\u001b[0m",
      "\u001b[0;31mAttributeError\u001b[0m                            Traceback (most recent call last)",
      "\u001b[0;32m<ipython-input-11-61170d35486e>\u001b[0m in \u001b[0;36m<module>\u001b[0;34m()\u001b[0m\n\u001b[0;32m----> 1\u001b[0;31m \u001b[0mprint_email\u001b[0m\u001b[0;34m(\u001b[0m\u001b[0malice\u001b[0m\u001b[0;34m)\u001b[0m\u001b[0;34m\u001b[0m\u001b[0;34m\u001b[0m\u001b[0m\n\u001b[0m",
      "\u001b[0;32m<ipython-input-9-8fec67148b56>\u001b[0m in \u001b[0;36mprint_email\u001b[0;34m(some_user)\u001b[0m\n\u001b[1;32m      1\u001b[0m \u001b[0;32mdef\u001b[0m \u001b[0mprint_email\u001b[0m\u001b[0;34m(\u001b[0m\u001b[0msome_user\u001b[0m\u001b[0;34m)\u001b[0m\u001b[0;34m:\u001b[0m\u001b[0;34m\u001b[0m\u001b[0;34m\u001b[0m\u001b[0m\n\u001b[0;32m----> 2\u001b[0;31m     \u001b[0mprint\u001b[0m\u001b[0;34m(\u001b[0m\u001b[0msome_user\u001b[0m\u001b[0;34m.\u001b[0m\u001b[0memail\u001b[0m\u001b[0;34m)\u001b[0m\u001b[0;34m\u001b[0m\u001b[0;34m\u001b[0m\u001b[0m\n\u001b[0m",
      "\u001b[0;31mAttributeError\u001b[0m: 'User' object has no attribute 'email'"
     ]
    }
   ],
   "source": [
    "print_email(alice)"
   ]
  },
  {
   "cell_type": "markdown",
   "metadata": {},
   "source": [
    "Wouldn't it be nice to _guarantee_ that the name and email are set **when you create the user**?"
   ]
  },
  {
   "cell_type": "markdown",
   "metadata": {},
   "source": [
    "#### Constructors\n",
    "\n",
    "Classes let you control how instances are created (\"constructed\") by letting you define a special function called a _constructor_. It is a function you define _inside_ the class definition. It looks like this (pardon the confusing syntax, bear with me):"
   ]
  },
  {
   "cell_type": "code",
   "execution_count": 13,
   "metadata": {},
   "outputs": [],
   "source": [
    "class User:\n",
    "    def __init__(self, name, email, password):\n",
    "        self.name = name\n",
    "        self.email = email\n",
    "        self.password = password"
   ]
  },
  {
   "cell_type": "markdown",
   "metadata": {},
   "source": [
    "If you do this, you can then create a user like we discussed:"
   ]
  },
  {
   "cell_type": "code",
   "execution_count": 17,
   "metadata": {},
   "outputs": [
    {
     "name": "stdout",
     "output_type": "stream",
     "text": [
      "joe@gmail.com\n"
     ]
    }
   ],
   "source": [
    "joe = User(\"Joe\", \"joe@gmail.com\", \"wiggles123\")\n",
    "print_email(joe)"
   ]
  },
  {
   "cell_type": "markdown",
   "metadata": {},
   "source": [
    "Why does this work? Well first, we defined a function on the class itself (we'll cover this more in a minute) -- but we gave it a special name, `__init__`. The first argument to `__init___` is always `self`, and it refers, in the function body, to the instance being created. The other arguments are simply parameters to the function, which you use to set attributes on the instance.\n",
    "\n",
    "Because this is a special function name, Python knows that whatever you put in `__init__` translates into a constructor invoked on the name on the class with `MyClassName()`. `self` is also implicitly returned, so when you run `joe = User()` an instance is returned and set to the variable `joe`."
   ]
  },
  {
   "cell_type": "markdown",
   "metadata": {},
   "source": [
    "#### But wait, there's more!"
   ]
  },
  {
   "cell_type": "markdown",
   "metadata": {},
   "source": [
    "Our constructors can do anything regular python code can do, so we can verify that everything was kosher in other ways. For example, we can check if the `email` looks valid -- say, by checking for an `@` symbol. If it's invalid, we can throw an error, so the program knows right away. Managing errors (called `Exception`s) in python is beyond our scope here, but this gives you the idea of using constructors to validate that everything looks okay."
   ]
  },
  {
   "cell_type": "code",
   "execution_count": 20,
   "metadata": {},
   "outputs": [
    {
     "ename": "Exception",
     "evalue": "('Invalid email:', 'BAD EMAIL')",
     "output_type": "error",
     "traceback": [
      "\u001b[0;31m---------------------------------------------------------------------------\u001b[0m",
      "\u001b[0;31mException\u001b[0m                                 Traceback (most recent call last)",
      "\u001b[0;32m<ipython-input-20-4b34fefc2f78>\u001b[0m in \u001b[0;36m<module>\u001b[0;34m()\u001b[0m\n\u001b[1;32m      8\u001b[0m             \u001b[0;32mraise\u001b[0m \u001b[0mException\u001b[0m\u001b[0;34m(\u001b[0m\u001b[0;34m\"Invalid email:\"\u001b[0m\u001b[0;34m,\u001b[0m \u001b[0memail\u001b[0m\u001b[0;34m)\u001b[0m\u001b[0;34m\u001b[0m\u001b[0;34m\u001b[0m\u001b[0m\n\u001b[1;32m      9\u001b[0m \u001b[0;34m\u001b[0m\u001b[0m\n\u001b[0;32m---> 10\u001b[0;31m \u001b[0mjoe\u001b[0m \u001b[0;34m=\u001b[0m \u001b[0mUser\u001b[0m\u001b[0;34m(\u001b[0m\u001b[0;34m\"Joe\"\u001b[0m\u001b[0;34m,\u001b[0m \u001b[0;34m\"BAD EMAIL\"\u001b[0m\u001b[0;34m,\u001b[0m \u001b[0;34m\"wiggles123\"\u001b[0m\u001b[0;34m)\u001b[0m\u001b[0;34m\u001b[0m\u001b[0;34m\u001b[0m\u001b[0m\n\u001b[0m",
      "\u001b[0;32m<ipython-input-20-4b34fefc2f78>\u001b[0m in \u001b[0;36m__init__\u001b[0;34m(self, name, email, password)\u001b[0m\n\u001b[1;32m      6\u001b[0m \u001b[0;34m\u001b[0m\u001b[0m\n\u001b[1;32m      7\u001b[0m         \u001b[0;32mif\u001b[0m \u001b[0;34m'@'\u001b[0m \u001b[0;32mnot\u001b[0m \u001b[0;32min\u001b[0m \u001b[0memail\u001b[0m\u001b[0;34m:\u001b[0m\u001b[0;34m\u001b[0m\u001b[0;34m\u001b[0m\u001b[0m\n\u001b[0;32m----> 8\u001b[0;31m             \u001b[0;32mraise\u001b[0m \u001b[0mException\u001b[0m\u001b[0;34m(\u001b[0m\u001b[0;34m\"Invalid email:\"\u001b[0m\u001b[0;34m,\u001b[0m \u001b[0memail\u001b[0m\u001b[0;34m)\u001b[0m\u001b[0;34m\u001b[0m\u001b[0;34m\u001b[0m\u001b[0m\n\u001b[0m\u001b[1;32m      9\u001b[0m \u001b[0;34m\u001b[0m\u001b[0m\n\u001b[1;32m     10\u001b[0m \u001b[0mjoe\u001b[0m \u001b[0;34m=\u001b[0m \u001b[0mUser\u001b[0m\u001b[0;34m(\u001b[0m\u001b[0;34m\"Joe\"\u001b[0m\u001b[0;34m,\u001b[0m \u001b[0;34m\"BAD EMAIL\"\u001b[0m\u001b[0;34m,\u001b[0m \u001b[0;34m\"wiggles123\"\u001b[0m\u001b[0;34m)\u001b[0m\u001b[0;34m\u001b[0m\u001b[0;34m\u001b[0m\u001b[0m\n",
      "\u001b[0;31mException\u001b[0m: ('Invalid email:', 'BAD EMAIL')"
     ]
    }
   ],
   "source": [
    "class User:\n",
    "    def __init__(self, name, email, password):\n",
    "        self.name = name\n",
    "        self.email = email\n",
    "        self.password = password\n",
    "        \n",
    "        if '@' not in email:\n",
    "            raise Exception(\"Invalid email:\", email)\n",
    "\n",
    "joe = User(\"Joe\", \"BAD EMAIL\", \"wiggles123\")"
   ]
  },
  {
   "cell_type": "markdown",
   "metadata": {},
   "source": [
    "#### Custom functions\n",
    "\n",
    "Often there are specific behaviors you may want to perform that are unique to instances of your class. For example,"
   ]
  },
  {
   "cell_type": "code",
   "execution_count": 10,
   "metadata": {},
   "outputs": [
    {
     "name": "stdout",
     "output_type": "stream",
     "text": [
      "Hello Joe\n"
     ]
    }
   ],
   "source": [
    "class User:\n",
    "    def __init__(self, name, email, password):\n",
    "        self.name = name\n",
    "        self.email = email\n",
    "        self.password = password\n",
    "    def say_hi(self):\n",
    "        print(\"Hello\", self.name)\n",
    "\n",
    "joe = User(\"Joe\", \"joe@gmail.com\", \"wiggles123\")\n",
    "joe.say_hi()"
   ]
  },
  {
   "cell_type": "markdown",
   "metadata": {},
   "source": [
    "Note that you _cannot_ call `say_hi` on instances of any other type. E.g.\n",
    "```python\n",
    "x = 4\n",
    "x.say_hi()\n",
    "```\n",
    "...would throw an error. This is because we have _encapsulated_ this code quite neatly, meaning `say_hi` only exists on this class.\n",
    "\n",
    "Moreover, another class (say, an Admin class) could have its own function called `say_hi` and it would not interfere with User's `say_hi` because they live in different scopes. This lets us write arbitrarily complicated functionality for our objects and keep it neatly confined."
   ]
  },
  {
   "cell_type": "markdown",
   "metadata": {},
   "source": [
    "## Inheritance\n",
    "\n",
    "All classes in python fit into a neat \"family tree,\" where each class is a descendant of one (or more) other classes, going back all the way to a single common ancestor of everything: `object`\n",
    "\n",
    "If you have an instance, say `x`, it is technically an instance of its class _and all of that class's ancestors_. For example, \"basketball\" is an instance of a \"sport.\" But \"sport\" is a type of \"game,\" so basketball is an instance of a game as well. And games are all types of \"activity,\" so basketball is, at once, an instance of a sport, a game, and an activity.\n",
    "\n",
    "And an `object`. Eventually, everything inherits from `object`. In other languages, they distinguish between _primitives_ (integers, strings, etc) and _objects_ (which have a class), but in python **everything** has a class, hence everything is an object.\n",
    "\n",
    "From this, you can maybe guess that `isinstance(x, object)` will literally always return true. Everything is an object, somewhere in its ancestry!"
   ]
  },
  {
   "cell_type": "code",
   "execution_count": 11,
   "metadata": {},
   "outputs": [
    {
     "name": "stdout",
     "output_type": "stream",
     "text": [
      "4 is an int? True\n",
      "4 is a string? False\n",
      "4 is an object? True\n",
      "\n",
      "foo is an int? False\n",
      "foo is a string? True\n",
      "foo is an object? True\n",
      "\n"
     ]
    }
   ],
   "source": [
    "x = 4\n",
    "print(x, \"is an int?\", isinstance(x, int))\n",
    "print(x, \"is a string?\", isinstance(x, str))\n",
    "print(x, \"is an object?\", isinstance(x, object))\n",
    "print()\n",
    "\n",
    "y = \"foo\"\n",
    "print(y, \"is an int?\", isinstance(y, int))\n",
    "print(y, \"is a string?\", isinstance(y, str))\n",
    "print(y, \"is an object?\", isinstance(y, object))\n",
    "print()"
   ]
  },
  {
   "cell_type": "markdown",
   "metadata": {},
   "source": [
    "### `issubclass`\n",
    "While you can apply `isinstance` to an _instance_ of a class, you can apply `issubclass` to the _class_ itself. Note that classes are considered to be subclasses of themselves (see that `issubclass(int, int)` below returns True)."
   ]
  },
  {
   "cell_type": "code",
   "execution_count": 12,
   "metadata": {},
   "outputs": [
    {
     "name": "stdout",
     "output_type": "stream",
     "text": [
      "int is a subclass of str? False\n",
      "int is a subclass of int? True\n",
      "int is a subclass of object? True\n",
      "str is a subclass of object? True\n",
      "object is a subclass of str? False\n"
     ]
    }
   ],
   "source": [
    "print(\"int is a subclass of str?\", issubclass(int, str))\n",
    "print(\"int is a subclass of int?\", issubclass(int, int))\n",
    "print(\"int is a subclass of object?\", issubclass(int, object))\n",
    "print(\"str is a subclass of object?\", issubclass(str, object))\n",
    "print(\"object is a subclass of str?\", issubclass(object, str))"
   ]
  },
  {
   "cell_type": "code",
   "execution_count": 13,
   "metadata": {},
   "outputs": [
    {
     "data": {
      "text/plain": [
       "True"
      ]
     },
     "execution_count": 13,
     "metadata": {},
     "output_type": "execute_result"
    }
   ],
   "source": [
    "issubclass(User, object)"
   ]
  },
  {
   "cell_type": "markdown",
   "metadata": {},
   "source": [
    "### Inheritance makes things shine\n",
    "\n",
    "To define a class (Foo) that inherits from another class (Bar), do this:"
   ]
  },
  {
   "cell_type": "code",
   "execution_count": 14,
   "metadata": {},
   "outputs": [
    {
     "name": "stdout",
     "output_type": "stream",
     "text": [
      "True\n",
      "True\n"
     ]
    }
   ],
   "source": [
    "class Bar:\n",
    "    pass\n",
    "\n",
    "class Foo(Bar):\n",
    "    pass\n",
    "\n",
    "x = Foo()\n",
    "print(isinstance(x, Bar))\n",
    "print(issubclass(Foo, Bar))"
   ]
  },
  {
   "cell_type": "markdown",
   "metadata": {},
   "source": [
    "That is, Foo _inherits from_ Bar. The beauty of this is that subclasses, by default, get alll the functionality from their parents:"
   ]
  },
  {
   "cell_type": "code",
   "execution_count": 15,
   "metadata": {},
   "outputs": [
    {
     "name": "stdout",
     "output_type": "stream",
     "text": [
      "Simon says, \"I am 'y'\"\n",
      "Simon says, \"I am 'x'\"\n"
     ]
    }
   ],
   "source": [
    "class Bar:\n",
    "    def simon_says(self, words):\n",
    "        print('Simon says, \"%s\"' % words)\n",
    "\n",
    "class Foo(Bar):\n",
    "    pass\n",
    "\n",
    "y = Bar()\n",
    "y.simon_says(\"I am 'y'\")\n",
    "\n",
    "x = Foo()\n",
    "x.simon_says(\"I am 'x'\")"
   ]
  },
  {
   "cell_type": "markdown",
   "metadata": {},
   "source": [
    "See how x, an instance of the Foo class, got to use the simon_says function without defining it? That's because Foo is a subclass of Bar, where simon_says is defined.\n",
    "\n",
    "This makes us ready for the typical way that software engineering works - by building hierarchies of classes to share and encapsulate functionality.\n",
    "\n",
    "Important: You can change the behavior defined by an ancestor. In this example, we can have the subclass (Foo) _override_ the behavior of its parent class (Bar) -- simply re-define the function in the subclass like so:"
   ]
  },
  {
   "cell_type": "code",
   "execution_count": 16,
   "metadata": {},
   "outputs": [
    {
     "name": "stdout",
     "output_type": "stream",
     "text": [
      "Simon says, \"I am 'y'\"\n",
      "Simon likes to say, \"I am 'x'\"\n"
     ]
    }
   ],
   "source": [
    "class Bar:\n",
    "    def simon_says(self, words):\n",
    "        print('Simon says, \"%s\"' % words)\n",
    "\n",
    "class Foo(Bar):\n",
    "    def simon_says(self, words):\n",
    "        print('Simon likes to say, \"%s\"' % words)\n",
    "\n",
    "y = Bar()\n",
    "y.simon_says(\"I am 'y'\")\n",
    "\n",
    "x = Foo()\n",
    "x.simon_says(\"I am 'x'\")"
   ]
  },
  {
   "cell_type": "markdown",
   "metadata": {},
   "source": [
    "This is why, in oTree, many functions you can optionally specify. If you don't specify them, your class will inherit the default behavior from its parent."
   ]
  },
  {
   "cell_type": "markdown",
   "metadata": {},
   "source": [
    "### `super`\n",
    "\n",
    "Sometimes you want to override an ancestor's behavior, but not lose the ability to do what the ancestor did. Let's say we want to define two classes: \"Bar\" and \"BarBarBar\" where both can `simon_says`, but `BarBarBar` simply does it three times. Here's how to do it, without duplicating code:"
   ]
  },
  {
   "cell_type": "code",
   "execution_count": 17,
   "metadata": {},
   "outputs": [
    {
     "name": "stdout",
     "output_type": "stream",
     "text": [
      "Simon says, \"I am 'y'\"\n"
     ]
    }
   ],
   "source": [
    "class Bar:\n",
    "    def simon_says(self, words):\n",
    "        print('Simon says, \"%s\"' % words)\n",
    "\n",
    "class BarBarBar(Bar):\n",
    "    def simon_says(self, words):\n",
    "        for i in range(3):\n",
    "            super().simon_says(words)\n",
    "\n",
    "y = Bar()\n",
    "y.simon_says(\"I am 'y'\")"
   ]
  },
  {
   "cell_type": "code",
   "execution_count": 18,
   "metadata": {},
   "outputs": [
    {
     "name": "stdout",
     "output_type": "stream",
     "text": [
      "Simon says, \"I am 'x'\"\n",
      "Simon says, \"I am 'x'\"\n",
      "Simon says, \"I am 'x'\"\n"
     ]
    }
   ],
   "source": [
    "x = BarBarBar()\n",
    "x.simon_says(\"I am 'x'\")"
   ]
  },
  {
   "cell_type": "markdown",
   "metadata": {},
   "source": [
    "## That's it for now! See if you can understand the oTree code better."
   ]
  },
  {
   "cell_type": "code",
   "execution_count": null,
   "metadata": {},
   "outputs": [],
   "source": []
  }
 ],
 "metadata": {
  "kernelspec": {
   "display_name": "Python 3",
   "language": "python",
   "name": "python3"
  },
  "language_info": {
   "codemirror_mode": {
    "name": "ipython",
    "version": 3
   },
   "file_extension": ".py",
   "mimetype": "text/x-python",
   "name": "python",
   "nbconvert_exporter": "python",
   "pygments_lexer": "ipython3",
   "version": "3.7.4"
  }
 },
 "nbformat": 4,
 "nbformat_minor": 2
}
